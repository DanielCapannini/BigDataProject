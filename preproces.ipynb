{
 "cells": [
  {
   "cell_type": "code",
   "id": "initial_id",
   "metadata": {
    "collapsed": true,
    "ExecuteTime": {
     "end_time": "2024-12-27T16:36:43.079529Z",
     "start_time": "2024-12-27T16:36:43.066799Z"
    }
   },
   "source": [
    "import csv\n",
    "import os"
   ],
   "outputs": [],
   "execution_count": 1
  },
  {
   "metadata": {
    "ExecuteTime": {
     "end_time": "2024-12-27T16:37:27.682594Z",
     "start_time": "2024-12-27T16:37:27.668103Z"
    }
   },
   "cell_type": "code",
   "source": [
    "def tsv_to_csv(tsv_file_path, csv_file_path, n_max=1000000000):\n",
    "    try:\n",
    "        # Controlla se il file CSV esiste, altrimenti crealo\n",
    "        if not os.path.exists(csv_file_path):\n",
    "            open(csv_file_path, 'w').close()\n",
    "            \n",
    "        i = 0\n",
    "\n",
    "        # Apri il file TSV in modalità lettura\n",
    "        with open(tsv_file_path, mode='r', encoding='utf-8') as tsv_file:\n",
    "            tsv_reader = csv.reader(tsv_file, delimiter='\\t')  # Leggi il file con il delimitatore '\\t'\n",
    "\n",
    "            # Apri il file CSV in modalità scrittura\n",
    "            with open(csv_file_path, mode='w', encoding='utf-8', newline='') as csv_file:\n",
    "                csv_writer = csv.writer(csv_file, delimiter=',')  # Scrivi il file con il delimitatore ','\n",
    "\n",
    "                # Converte ogni riga dal file TSV al file CSV\n",
    "                for row in tsv_reader:\n",
    "                    csv_writer.writerow(row)\n",
    "                    i += 1\n",
    "                    if i == n_max:\n",
    "                        break\n",
    "        print(f\"Conversione completata: {csv_file_path}\")\n",
    "\n",
    "    except FileNotFoundError:\n",
    "        print(f\"Errore: Il file {tsv_file_path} non esiste.\")\n",
    "    except Exception as e:\n",
    "        print(f\"Errore durante la conversione: {e}\")"
   ],
   "id": "916be3ba94174e85",
   "outputs": [],
   "execution_count": 2
  },
  {
   "metadata": {
    "ExecuteTime": {
     "end_time": "2024-12-27T16:38:52.854970Z",
     "start_time": "2024-12-27T16:38:02.727564Z"
    }
   },
   "cell_type": "code",
   "source": [
    "input_file = \"../../../../datasets/project/tsv/title.basics.tsv\"\n",
    "output_file = \"../../../../datasets/project/csv/title.basics.csv\"\n",
    "tsv_to_csv(input_file, output_file)"
   ],
   "id": "c15e9b1bfccb10de",
   "outputs": [
    {
     "name": "stdout",
     "output_type": "stream",
     "text": [
      "Conversione completata: ../../../../datasets/project/csv/title.basics.csv\n"
     ]
    }
   ],
   "execution_count": 3
  },
  {
   "metadata": {
    "ExecuteTime": {
     "end_time": "2024-12-26T14:15:56.548072Z",
     "start_time": "2024-12-26T14:15:10.154171Z"
    }
   },
   "cell_type": "code",
   "source": [
    "input_file = \"../../../../datasets/project/tsv/name.basics.tsv\"\n",
    "output_file = \"../../../../datasets/project/csv/name.basics.csv\"\n",
    "tsv_to_csv(input_file, output_file)"
   ],
   "id": "7a3d71f76c5313ac",
   "outputs": [
    {
     "name": "stdout",
     "output_type": "stream",
     "text": [
      "Conversione completata: ../../../../datasets/project/csv/name.basics.csv\n"
     ]
    }
   ],
   "execution_count": 16
  },
  {
   "metadata": {
    "ExecuteTime": {
     "end_time": "2024-12-26T14:14:08.225438Z",
     "start_time": "2024-12-26T14:13:54.748127Z"
    }
   },
   "cell_type": "code",
   "source": [
    "input_file = \"../../../../datasets/project/tsv/title.episode.tsv\"\n",
    "output_file = \"../../../../datasets/project/csv/title.episode.csv\"\n",
    "tsv_to_csv(input_file, output_file)"
   ],
   "id": "45dbb7a14f90d6a0",
   "outputs": [
    {
     "name": "stdout",
     "output_type": "stream",
     "text": [
      "Conversione completata: ../../../../datasets/project/csv/title.episode.csv\n"
     ]
    }
   ],
   "execution_count": 13
  },
  {
   "metadata": {
    "ExecuteTime": {
     "end_time": "2024-12-26T14:16:30.557789Z",
     "start_time": "2024-12-26T14:16:09.441392Z"
    }
   },
   "cell_type": "code",
   "source": [
    "input_file = \"../../../../datasets/project/tsv/title.crew.tsv\"\n",
    "output_file = \"../../../../datasets/project/csv/title.crew.csv\"\n",
    "tsv_to_csv(input_file, output_file)"
   ],
   "id": "6859113aa08400d3",
   "outputs": [
    {
     "name": "stdout",
     "output_type": "stream",
     "text": [
      "Conversione completata: ../../../../datasets/project/csv/title.crew.csv\n"
     ]
    }
   ],
   "execution_count": 17
  },
  {
   "metadata": {
    "ExecuteTime": {
     "end_time": "2024-12-26T14:17:59.439958Z",
     "start_time": "2024-12-26T14:16:35.754542Z"
    }
   },
   "cell_type": "code",
   "source": [
    "input_file = \"../../../../datasets/project/tsv/title.akas.tsv\"\n",
    "output_file = \"../../../../datasets/project/csv/title.akas.csv\"\n",
    "tsv_to_csv(input_file, output_file)"
   ],
   "id": "61be69222274e8a",
   "outputs": [
    {
     "name": "stdout",
     "output_type": "stream",
     "text": [
      "Errore durante la conversione: field larger than field limit (131072)\n"
     ]
    }
   ],
   "execution_count": 18
  },
  {
   "metadata": {
    "ExecuteTime": {
     "end_time": "2024-12-26T14:21:26.465372Z",
     "start_time": "2024-12-26T14:18:27.118531Z"
    }
   },
   "cell_type": "code",
   "source": [
    "input_file = \"../../../../datasets/project/tsv/title.principals.tsv\"\n",
    "output_file = \"../../../../datasets/project/csv/title.principals.csv\"\n",
    "tsv_to_csv(input_file, output_file)"
   ],
   "id": "fee69445dac63cb6",
   "outputs": [
    {
     "name": "stdout",
     "output_type": "stream",
     "text": [
      "Conversione completata: ../../../../datasets/project/csv/title.principals.csv\n"
     ]
    }
   ],
   "execution_count": 19
  },
  {
   "metadata": {},
   "cell_type": "code",
   "outputs": [],
   "execution_count": null,
   "source": [
    "input_file = \"../../../../datasets/project/tsv/title.ratings.tsv\"\n",
    "output_file = \"../../../../datasets/project/csv/title.ratings.csv\"\n",
    "tsv_to_csv(input_file, output_file)"
   ],
   "id": "a5269249affbed09"
  },
  {
   "metadata": {
    "ExecuteTime": {
     "end_time": "2024-12-26T15:06:47.361231Z",
     "start_time": "2024-12-26T15:06:47.148141Z"
    }
   },
   "cell_type": "code",
   "source": [
    "input_file = \"../../../../datasets/project/tsv/title.principals.tsv\"\n",
    "output_file = \"../../../../datasets/project/csv/title.principals_half.csv\"\n",
    "tsv_to_csv(input_file, output_file, n_max=100000)"
   ],
   "id": "cd1fcb90d91dfa2b",
   "outputs": [
    {
     "name": "stdout",
     "output_type": "stream",
     "text": [
      "Conversione completata: ../../../../datasets/project/csv/title.principals_half.csv\n"
     ]
    }
   ],
   "execution_count": 7
  },
  {
   "metadata": {
    "ExecuteTime": {
     "end_time": "2024-12-26T15:06:50.815507Z",
     "start_time": "2024-12-26T15:06:50.521342Z"
    }
   },
   "cell_type": "code",
   "source": [
    "input_file = \"../../../../datasets/project/tsv/title.akas.tsv\"\n",
    "output_file = \"../../../../datasets/project/csv/title.akas_half.csv\"\n",
    "tsv_to_csv(input_file, output_file, n_max=100000)"
   ],
   "id": "8298cbff591137a3",
   "outputs": [
    {
     "name": "stdout",
     "output_type": "stream",
     "text": [
      "Conversione completata: ../../../../datasets/project/csv/title.akas_half.csv\n"
     ]
    }
   ],
   "execution_count": 8
  },
  {
   "metadata": {
    "ExecuteTime": {
     "end_time": "2024-12-26T15:07:23.670070Z",
     "start_time": "2024-12-26T15:07:23.526592Z"
    }
   },
   "cell_type": "code",
   "source": [
    "input_file = \"../../../../datasets/project/tsv/title.ratings.tsv\"\n",
    "output_file = \"../../../../datasets/project/csv/title.ratings_half.csv\"\n",
    "tsv_to_csv(input_file, output_file, n_max=100000)"
   ],
   "id": "1c23ca80e4fcc243",
   "outputs": [
    {
     "name": "stdout",
     "output_type": "stream",
     "text": [
      "Conversione completata: ../../../../datasets/project/csv/title.ratings_half.csv\n"
     ]
    }
   ],
   "execution_count": 9
  },
  {
   "metadata": {
    "ExecuteTime": {
     "end_time": "2024-12-26T15:07:37.900010Z",
     "start_time": "2024-12-26T15:07:37.652104Z"
    }
   },
   "cell_type": "code",
   "source": [
    "input_file = \"../../../../datasets/project/tsv/title.crew.tsv\"\n",
    "output_file = \"../../../../datasets/project/csv/title.crew_half.csv\"\n",
    "tsv_to_csv(input_file, output_file, n_max=100000)"
   ],
   "id": "da9f22f8c343fb88",
   "outputs": [
    {
     "name": "stdout",
     "output_type": "stream",
     "text": [
      "Conversione completata: ../../../../datasets/project/csv/title.crew_half.csv\n"
     ]
    }
   ],
   "execution_count": 10
  },
  {
   "metadata": {
    "ExecuteTime": {
     "end_time": "2024-12-26T15:07:57.454373Z",
     "start_time": "2024-12-26T15:07:57.119890Z"
    }
   },
   "cell_type": "code",
   "source": [
    "input_file = \"../../../../datasets/project/tsv/name.basics.tsv\"\n",
    "output_file = \"../../../../datasets/project/csv/name.basics_half.csv\"\n",
    "tsv_to_csv(input_file, output_file, n_max=100000)"
   ],
   "id": "8f93b3b203fa5a16",
   "outputs": [
    {
     "name": "stdout",
     "output_type": "stream",
     "text": [
      "Conversione completata: ../../../../datasets/project/csv/name.basics_half.csv\n"
     ]
    }
   ],
   "execution_count": 11
  },
  {
   "metadata": {
    "ExecuteTime": {
     "end_time": "2024-12-26T15:08:14.373153Z",
     "start_time": "2024-12-26T15:08:14.211947Z"
    }
   },
   "cell_type": "code",
   "source": [
    "input_file = \"../../../../datasets/project/tsv/title.episode.tsv\"\n",
    "output_file = \"../../../../datasets/project/csv/title.episode_half.csv\"\n",
    "tsv_to_csv(input_file, output_file, n_max=100000)"
   ],
   "id": "41f0d5de5c0b1fc3",
   "outputs": [
    {
     "name": "stdout",
     "output_type": "stream",
     "text": [
      "Conversione completata: ../../../../datasets/project/csv/title.episode_half.csv\n"
     ]
    }
   ],
   "execution_count": 12
  },
  {
   "metadata": {
    "ExecuteTime": {
     "end_time": "2024-12-26T15:09:01.037370Z",
     "start_time": "2024-12-26T15:09:00.674849Z"
    }
   },
   "cell_type": "code",
   "source": [
    "input_file = \"../../../../datasets/project/tsv/title.basics.tsv\"\n",
    "output_file = \"../../../../datasets/project/csv/title.basics_half.csv\"\n",
    "tsv_to_csv(input_file, output_file, n_max=100000)"
   ],
   "id": "75302f2a8088ebf4",
   "outputs": [
    {
     "name": "stdout",
     "output_type": "stream",
     "text": [
      "Conversione completata: ../../../../datasets/project/csv/title.basics_half.csv\n"
     ]
    }
   ],
   "execution_count": 13
  }
 ],
 "metadata": {
  "kernelspec": {
   "display_name": "Python 3",
   "language": "python",
   "name": "python3"
  },
  "language_info": {
   "codemirror_mode": {
    "name": "ipython",
    "version": 2
   },
   "file_extension": ".py",
   "mimetype": "text/x-python",
   "name": "python",
   "nbconvert_exporter": "python",
   "pygments_lexer": "ipython2",
   "version": "2.7.6"
  }
 },
 "nbformat": 4,
 "nbformat_minor": 5
}
